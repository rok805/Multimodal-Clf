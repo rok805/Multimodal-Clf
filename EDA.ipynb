{
 "cells": [
  {
   "cell_type": "code",
   "execution_count": 12,
   "id": "d48a9b7c-5d03-42c6-af64-717e9d33676e",
   "metadata": {},
   "outputs": [],
   "source": [
    "import pandas as pd\n",
    "from collections import Counter"
   ]
  },
  {
   "cell_type": "code",
   "execution_count": 17,
   "id": "b4860d4d-682e-4578-b85d-b1df5bb2154a",
   "metadata": {},
   "outputs": [
    {
     "name": "stdout",
     "output_type": "stream",
     "text": [
      "Collecting matplotlib\n",
      "  Downloading matplotlib-3.6.1-cp39-cp39-manylinux_2_17_x86_64.manylinux2014_x86_64.whl (11.8 MB)\n",
      "\u001b[K     |████████████████████████████████| 11.8 MB 18.8 MB/s eta 0:00:01\n",
      "\u001b[?25hRequirement already satisfied: pyparsing>=2.2.1 in /DATA/rok/miniconda3/lib/python3.9/site-packages (from matplotlib) (3.0.8)\n",
      "Requirement already satisfied: numpy>=1.19 in /DATA/rok/miniconda3/lib/python3.9/site-packages (from matplotlib) (1.22.3)\n",
      "Requirement already satisfied: pillow>=6.2.0 in /DATA/rok/miniconda3/lib/python3.9/site-packages (from matplotlib) (9.2.0)\n",
      "Requirement already satisfied: python-dateutil>=2.7 in /DATA/rok/miniconda3/lib/python3.9/site-packages (from matplotlib) (2.8.2)\n",
      "Requirement already satisfied: packaging>=20.0 in /DATA/rok/miniconda3/lib/python3.9/site-packages (from matplotlib) (21.3)\n",
      "Collecting cycler>=0.10\n",
      "  Using cached cycler-0.11.0-py3-none-any.whl (6.4 kB)\n",
      "Collecting kiwisolver>=1.0.1\n",
      "  Downloading kiwisolver-1.4.4-cp39-cp39-manylinux_2_12_x86_64.manylinux2010_x86_64.whl (1.6 MB)\n",
      "\u001b[K     |████████████████████████████████| 1.6 MB 65.9 MB/s eta 0:00:01\n",
      "\u001b[?25hCollecting contourpy>=1.0.1\n",
      "  Downloading contourpy-1.0.5-cp39-cp39-manylinux_2_17_x86_64.manylinux2014_x86_64.whl (296 kB)\n",
      "\u001b[K     |████████████████████████████████| 296 kB 81.6 MB/s eta 0:00:01\n",
      "\u001b[?25hCollecting fonttools>=4.22.0\n",
      "  Downloading fonttools-4.37.4-py3-none-any.whl (960 kB)\n",
      "\u001b[K     |████████████████████████████████| 960 kB 48.5 MB/s eta 0:00:01\n",
      "\u001b[?25hRequirement already satisfied: six>=1.5 in /DATA/rok/miniconda3/lib/python3.9/site-packages (from python-dateutil>=2.7->matplotlib) (1.16.0)\n",
      "Installing collected packages: kiwisolver, fonttools, cycler, contourpy, matplotlib\n",
      "Successfully installed contourpy-1.0.5 cycler-0.11.0 fonttools-4.37.4 kiwisolver-1.4.4 matplotlib-3.6.1\n"
     ]
    }
   ],
   "source": [
    "!pip install matplotlib"
   ]
  },
  {
   "cell_type": "code",
   "execution_count": 18,
   "id": "0c23d618-aee2-4e1a-9063-83c35af00cd4",
   "metadata": {},
   "outputs": [],
   "source": [
    "import matplotlib.pyplot as plt"
   ]
  },
  {
   "cell_type": "code",
   "execution_count": 4,
   "id": "b4666e2b-1a02-44da-9c23-2034e899477b",
   "metadata": {},
   "outputs": [],
   "source": [
    "train = pd.read_csv('./train.csv')[['overview', 'cat1', 'cat2', 'cat3']]"
   ]
  },
  {
   "cell_type": "code",
   "execution_count": 5,
   "id": "025e6a6f-2b54-4392-a5c5-59afdaba2e5f",
   "metadata": {},
   "outputs": [],
   "source": [
    "test = pd.read_csv('./test.csv')"
   ]
  },
  {
   "cell_type": "code",
   "execution_count": 6,
   "id": "62859788-e999-4d6f-9c9d-a7f08917c1a9",
   "metadata": {},
   "outputs": [],
   "source": [
    "submit = pd.read_csv('./kobert_base.csv')"
   ]
  },
  {
   "cell_type": "code",
   "execution_count": 8,
   "id": "e9f55087-9ad2-45ea-8225-bc1e413080e8",
   "metadata": {},
   "outputs": [],
   "source": [
    "test['pred'] = submit['cat3']"
   ]
  },
  {
   "cell_type": "code",
   "execution_count": 10,
   "id": "a3bad175-ff4c-459d-b240-b46ce2d13258",
   "metadata": {},
   "outputs": [],
   "source": [
    "test.to_csv('EDA_prediction.csv', index=False)"
   ]
  },
  {
   "cell_type": "code",
   "execution_count": null,
   "id": "fa83dbd9-3bd8-4751-ba14-0484cd4a682b",
   "metadata": {},
   "outputs": [],
   "source": [
    "# train: 16985개\n",
    "# test: 8280개"
   ]
  },
  {
   "cell_type": "code",
   "execution_count": 22,
   "id": "bad92463-caa6-4cd5-b327-6a7f900e5804",
   "metadata": {},
   "outputs": [
    {
     "data": {
      "text/html": [
       "<div>\n",
       "<style scoped>\n",
       "    .dataframe tbody tr th:only-of-type {\n",
       "        vertical-align: middle;\n",
       "    }\n",
       "\n",
       "    .dataframe tbody tr th {\n",
       "        vertical-align: top;\n",
       "    }\n",
       "\n",
       "    .dataframe thead th {\n",
       "        text-align: right;\n",
       "    }\n",
       "</style>\n",
       "<table border=\"1\" class=\"dataframe\">\n",
       "  <thead>\n",
       "    <tr style=\"text-align: right;\">\n",
       "      <th></th>\n",
       "      <th>overview</th>\n",
       "      <th>cat3</th>\n",
       "    </tr>\n",
       "  </thead>\n",
       "  <tbody>\n",
       "    <tr>\n",
       "      <th>0</th>\n",
       "      <td>소안항은 조용한 섬으로 인근해안이 청정해역으로 일찍이 김 양식을 해서 높은 소득을 ...</td>\n",
       "      <td>항구/포구</td>\n",
       "    </tr>\n",
       "    <tr>\n",
       "      <th>1</th>\n",
       "      <td>경기도 이천시 모가면에 있는 골프장으로 대중제 18홀이다. 회원제로 개장을 했다가 ...</td>\n",
       "      <td>골프</td>\n",
       "    </tr>\n",
       "    <tr>\n",
       "      <th>2</th>\n",
       "      <td>금오산성숯불갈비는 한우고기만을 전문적으로 취급하고 사용하는 부식 자재 또한 유기농법...</td>\n",
       "      <td>한식</td>\n",
       "    </tr>\n",
       "  </tbody>\n",
       "</table>\n",
       "</div>"
      ],
      "text/plain": [
       "                                            overview   cat3\n",
       "0  소안항은 조용한 섬으로 인근해안이 청정해역으로 일찍이 김 양식을 해서 높은 소득을 ...  항구/포구\n",
       "1  경기도 이천시 모가면에 있는 골프장으로 대중제 18홀이다. 회원제로 개장을 했다가 ...     골프\n",
       "2  금오산성숯불갈비는 한우고기만을 전문적으로 취급하고 사용하는 부식 자재 또한 유기농법...     한식"
      ]
     },
     "execution_count": 22,
     "metadata": {},
     "output_type": "execute_result"
    }
   ],
   "source": [
    "train[['overview', 'cat3']].head(3)"
   ]
  },
  {
   "cell_type": "code",
   "execution_count": 24,
   "id": "62dd0359-2b01-47ee-8172-3d771a72eb60",
   "metadata": {},
   "outputs": [
    {
     "data": {
      "text/html": [
       "<div>\n",
       "<style scoped>\n",
       "    .dataframe tbody tr th:only-of-type {\n",
       "        vertical-align: middle;\n",
       "    }\n",
       "\n",
       "    .dataframe tbody tr th {\n",
       "        vertical-align: top;\n",
       "    }\n",
       "\n",
       "    .dataframe thead th {\n",
       "        text-align: right;\n",
       "    }\n",
       "</style>\n",
       "<table border=\"1\" class=\"dataframe\">\n",
       "  <thead>\n",
       "    <tr style=\"text-align: right;\">\n",
       "      <th></th>\n",
       "      <th>overview</th>\n",
       "      <th>pred</th>\n",
       "    </tr>\n",
       "  </thead>\n",
       "  <tbody>\n",
       "    <tr>\n",
       "      <th>0</th>\n",
       "      <td>신선한 재료로 정성을 다해 만들었다. 늘 변함없는 맛과 서비스로 모실것을 약속한다.</td>\n",
       "      <td>한식</td>\n",
       "    </tr>\n",
       "    <tr>\n",
       "      <th>1</th>\n",
       "      <td>청청한 해역 등량만과 율포해수욕장이 한눈에 내려다 보이는 위치에 있으며, 막 잡은 ...</td>\n",
       "      <td>한식</td>\n",
       "    </tr>\n",
       "    <tr>\n",
       "      <th>2</th>\n",
       "      <td>장터설렁탕은 남녀노소 누구나 즐길 수 있는 전통 건강식으로 좋은 재료와 전통 조리방...</td>\n",
       "      <td>한식</td>\n",
       "    </tr>\n",
       "  </tbody>\n",
       "</table>\n",
       "</div>"
      ],
      "text/plain": [
       "                                            overview pred\n",
       "0     신선한 재료로 정성을 다해 만들었다. 늘 변함없는 맛과 서비스로 모실것을 약속한다.   한식\n",
       "1  청청한 해역 등량만과 율포해수욕장이 한눈에 내려다 보이는 위치에 있으며, 막 잡은 ...   한식\n",
       "2  장터설렁탕은 남녀노소 누구나 즐길 수 있는 전통 건강식으로 좋은 재료와 전통 조리방...   한식"
      ]
     },
     "execution_count": 24,
     "metadata": {},
     "output_type": "execute_result"
    }
   ],
   "source": [
    "test[['overview', 'pred']].head(3)"
   ]
  },
  {
   "cell_type": "markdown",
   "id": "c7e95811-0956-4b0d-a402-97bddabb53dd",
   "metadata": {},
   "source": [
    "# -------------------------------------------------------------------\n"
   ]
  },
  {
   "cell_type": "code",
   "execution_count": 36,
   "id": "5407c852-9887-4677-9ac1-b66230ba6aa2",
   "metadata": {},
   "outputs": [
    {
     "data": {
      "text/plain": [
       "[('한식', 3438),\n",
       " ('야영장,오토캠핑장', 1558),\n",
       " ('바/까페', 785),\n",
       " ('유적지/사적지', 622),\n",
       " ('일반축제', 549),\n",
       " ('사찰', 495),\n",
       " ('이색거리', 467),\n",
       " ('펜션', 445),\n",
       " ('한옥스테이', 404),\n",
       " ('모텔', 340),\n",
       " ('농.산.어촌 체험', 332),\n",
       " ('박물관', 310),\n",
       " ('공원', 271),\n",
       " ('상설시장', 270),\n",
       " ('트래킹', 246),\n",
       " ('전시관', 243),\n",
       " ('산', 239),\n",
       " ('서양식', 226),\n",
       " ('유원지', 211),\n",
       " ('중식', 209),\n",
       " ('해수욕장', 207),\n",
       " ('자연생태관광지', 207),\n",
       " ('미술관/화랑', 204),\n",
       " ('골프', 179),\n",
       " ('전문상가', 173),\n",
       " ('테마공원', 172),\n",
       " ('5일장', 165),\n",
       " ('계곡', 160),\n",
       " ('일식', 151),\n",
       " ('기념탑/기념비/전망대', 148),\n",
       " ('항구/포구', 134),\n",
       " ('관광단지', 126),\n",
       " ('공연장', 120),\n",
       " ('민물낚시', 119),\n",
       " ('자연휴양림', 118),\n",
       " ('문화원', 113),\n",
       " ('섬', 111),\n",
       " ('유명건물', 105),\n",
       " ('강', 104),\n",
       " ('수목원', 95),\n",
       " ('수련시설', 95),\n",
       " ('도서관', 92),\n",
       " ('고택', 92),\n",
       " ('희귀동.식물', 88),\n",
       " ('성', 85),\n",
       " ('게스트하우스', 83),\n",
       " ('기타', 79),\n",
       " ('민속마을', 76),\n",
       " ('기타행사', 71),\n",
       " ('종교성지', 65),\n",
       " ('기념관', 64),\n",
       " ('패밀리레스토랑', 61),\n",
       " ('스키(보드) 렌탈샵', 60),\n",
       " ('홈스테이', 57),\n",
       " ('바다낚시', 57),\n",
       " ('온천/욕장/스파', 53),\n",
       " ('기암괴석', 53),\n",
       " ('생가', 43),\n",
       " ('공예,공방', 41),\n",
       " ('다리/대교', 41),\n",
       " ('폭포', 40),\n",
       " ('민박', 39),\n",
       " ('특산물판매점', 37),\n",
       " ('채식전문점', 36),\n",
       " ('고궁', 36),\n",
       " ('자동차경주', 35),\n",
       " ('안보관광', 34),\n",
       " ('콘도미니엄', 34),\n",
       " ('유람선/잠수함관광', 30),\n",
       " ('호수', 30),\n",
       " ('박람회', 29),\n",
       " ('썰매장', 27),\n",
       " ('수영', 27),\n",
       " ('윈드서핑/제트스키', 27),\n",
       " ('문화전수시설', 26),\n",
       " ('해안절경', 25),\n",
       " ('복합 레포츠', 24),\n",
       " ('등대', 24),\n",
       " ('문', 23),\n",
       " ('컨벤션', 22),\n",
       " ('국립공원', 21),\n",
       " ('승마', 21),\n",
       " ('동굴', 20),\n",
       " ('유스호스텔', 20),\n",
       " ('문화관광축제', 20),\n",
       " ('동상', 18),\n",
       " ('래프팅', 18),\n",
       " ('대형서점', 17),\n",
       " ('약수터', 17),\n",
       " ('도립공원', 15),\n",
       " ('헬스투어', 15),\n",
       " ('자전거하이킹', 13),\n",
       " ('요트', 12),\n",
       " ('서비스드레지던스', 12),\n",
       " ('스케이트', 12),\n",
       " ('군립공원', 11),\n",
       " ('이색찜질방', 11),\n",
       " ('수상레포츠', 11),\n",
       " ('컨벤션센터', 11),\n",
       " ('카약/카누', 10),\n",
       " ('식음료', 10),\n",
       " ('헹글라이딩/패러글라이딩', 9),\n",
       " ('학교', 9),\n",
       " ('사격장', 9),\n",
       " ('분수', 8),\n",
       " ('터널', 8),\n",
       " ('외국문화원', 7),\n",
       " ('카트', 7),\n",
       " ('스노쿨링/스킨스쿠버다이빙', 7),\n",
       " ('면세점', 6),\n",
       " ('전통공연', 6),\n",
       " ('클럽', 6),\n",
       " ('스키/스노보드', 6),\n",
       " ('이색체험', 6),\n",
       " ('연극', 5),\n",
       " ('백화점', 4),\n",
       " ('카지노', 4),\n",
       " ('번지점프', 4),\n",
       " ('발전소', 4),\n",
       " ('영화관', 4),\n",
       " ('ATV', 4),\n",
       " ('빙벽등반', 4),\n",
       " ('대중콘서트', 2),\n",
       " ('MTB', 2),\n",
       " ('스카이다이빙', 2),\n",
       " ('인라인(실내 인라인 포함)', 2),\n",
       " ('뮤지컬', 2),\n",
       " ('클래식음악회', 2)]"
      ]
     },
     "execution_count": 36,
     "metadata": {},
     "output_type": "execute_result"
    }
   ],
   "source": [
    "train_cat3 = dict(Counter(train['cat3']))\n",
    "train_cat3 = sorted(train_cat3.items(), key=lambda x: x[1], reverse=True)\n",
    "train_cat3"
   ]
  },
  {
   "cell_type": "code",
   "execution_count": 40,
   "id": "cec6992d-e60d-45b9-9b68-ee6ac956efbf",
   "metadata": {},
   "outputs": [
    {
     "data": {
      "text/plain": [
       "[('음식점', 4912),\n",
       " ('육상 레포츠', 2288),\n",
       " ('자연관광지', 1578),\n",
       " ('역사관광지', 1571),\n",
       " ('숙박시설', 1434),\n",
       " ('문화시설', 1220),\n",
       " ('휴양관광지', 889),\n",
       " ('체험관광지', 805),\n",
       " ('쇼핑', 696),\n",
       " ('축제', 569),\n",
       " ('건축/조형물', 328),\n",
       " ('수상 레포츠', 277),\n",
       " ('관광자원', 141),\n",
       " ('공연/행사', 139),\n",
       " ('산업관광지', 93),\n",
       " ('복합 레포츠', 24),\n",
       " ('항공 레포츠', 11),\n",
       " ('레포츠소개', 11)]"
      ]
     },
     "execution_count": 40,
     "metadata": {},
     "output_type": "execute_result"
    }
   ],
   "source": [
    "train_cat2 = dict(Counter(train['cat2']))\n",
    "train_cat2 = sorted(train_cat2.items(), key=lambda x: x[1], reverse=True)\n",
    "train_cat2"
   ]
  },
  {
   "cell_type": "code",
   "execution_count": 44,
   "id": "40ef22df-bff9-4083-b3da-83f51a10d4f7",
   "metadata": {},
   "outputs": [
    {
     "data": {
      "text/plain": [
       "18"
      ]
     },
     "execution_count": 44,
     "metadata": {},
     "output_type": "execute_result"
    }
   ],
   "source": [
    "len(train_cat2)"
   ]
  },
  {
   "cell_type": "code",
   "execution_count": 42,
   "id": "5e806910-0738-4608-835d-09ad32b8dd2d",
   "metadata": {},
   "outputs": [
    {
     "data": {
      "text/plain": [
       "[('인문(문화/예술/역사)', 5614),\n",
       " ('음식', 4912),\n",
       " ('레포츠', 2611),\n",
       " ('자연', 1719),\n",
       " ('숙박', 1434),\n",
       " ('쇼핑', 696)]"
      ]
     },
     "execution_count": 42,
     "metadata": {},
     "output_type": "execute_result"
    }
   ],
   "source": [
    "train_cat1 = dict(Counter(train['cat1']))\n",
    "train_cat1 = sorted(train_cat1.items(), key=lambda x: x[1], reverse=True)\n",
    "train_cat1"
   ]
  },
  {
   "cell_type": "markdown",
   "id": "db45314e-0145-466c-916b-bc0de954e5f6",
   "metadata": {},
   "source": [
    "# -------------------------------------------------------------------\n"
   ]
  },
  {
   "cell_type": "code",
   "execution_count": 37,
   "id": "13ad6138-9b80-435f-9e4e-e7c29cdd7f19",
   "metadata": {},
   "outputs": [
    {
     "data": {
      "text/plain": [
       "[('한식', 1510),\n",
       " ('야영장,오토캠핑장', 681),\n",
       " ('바/까페', 353),\n",
       " ('유적지/사적지', 303),\n",
       " ('일반축제', 274),\n",
       " ('농.산.어촌 체험', 210),\n",
       " ('사찰', 209),\n",
       " ('이색거리', 204),\n",
       " ('한옥스테이', 193),\n",
       " ('펜션', 191),\n",
       " ('모텔', 179),\n",
       " ('공원', 169),\n",
       " ('산', 166),\n",
       " ('박물관', 151),\n",
       " ('상설시장', 148),\n",
       " ('트래킹', 143),\n",
       " ('전문상가', 110),\n",
       " ('전시관', 108),\n",
       " ('미술관/화랑', 108),\n",
       " ('서양식', 95),\n",
       " ('중식', 93),\n",
       " ('해수욕장', 92),\n",
       " ('자연생태관광지', 89),\n",
       " ('기념탑/기념비/전망대', 79),\n",
       " ('테마공원', 78),\n",
       " ('계곡', 78),\n",
       " ('골프', 76),\n",
       " ('민물낚시', 70),\n",
       " ('항구/포구', 69),\n",
       " ('섬', 69),\n",
       " ('공연장', 63),\n",
       " ('강', 59),\n",
       " ('스키(보드) 렌탈샵', 57),\n",
       " ('고택', 57),\n",
       " ('문화원', 54),\n",
       " ('관광단지', 54),\n",
       " ('일식', 49),\n",
       " ('성', 48),\n",
       " ('5일장', 46),\n",
       " ('수련시설', 45),\n",
       " ('도서관', 44),\n",
       " ('수목원', 44),\n",
       " ('온천/욕장/스파', 41),\n",
       " ('유명건물', 38),\n",
       " ('유원지', 35),\n",
       " ('게스트하우스', 30),\n",
       " ('자연휴양림', 30),\n",
       " ('종교성지', 26),\n",
       " ('희귀동.식물', 24),\n",
       " ('기념관', 23),\n",
       " ('래프팅', 17),\n",
       " ('다리/대교', 16),\n",
       " ('폭포', 15),\n",
       " ('자동차경주', 10),\n",
       " ('기암괴석', 9),\n",
       " ('승마', 9),\n",
       " ('썰매장', 9),\n",
       " ('박람회', 7),\n",
       " ('동굴', 7),\n",
       " ('유람선/잠수함관광', 5),\n",
       " ('윈드서핑/제트스키', 5),\n",
       " ('수영', 2),\n",
       " ('패밀리레스토랑', 2),\n",
       " ('바다낚시', 1),\n",
       " ('호수', 1)]"
      ]
     },
     "execution_count": 37,
     "metadata": {},
     "output_type": "execute_result"
    }
   ],
   "source": [
    "test_cat3 = dict(Counter(test['pred']))\n",
    "test_cat3 = sorted(test_cat3.items(), key=lambda x: x[1], reverse=True)\n",
    "test_cat3"
   ]
  },
  {
   "cell_type": "code",
   "execution_count": 38,
   "id": "535873d4-df50-4e2b-bb9a-d2e88b3beb9f",
   "metadata": {},
   "outputs": [
    {
     "data": {
      "text/plain": [
       "65"
      ]
     },
     "execution_count": 38,
     "metadata": {},
     "output_type": "execute_result"
    }
   ],
   "source": [
    "len(test_cat3)"
   ]
  },
  {
   "cell_type": "code",
   "execution_count": 33,
   "id": "1df4979b-b4e5-4026-97c9-f075f67d89d6",
   "metadata": {},
   "outputs": [
    {
     "data": {
      "text/plain": [
       "128"
      ]
     },
     "execution_count": 33,
     "metadata": {},
     "output_type": "execute_result"
    }
   ],
   "source": [
    "len(d_cat3)"
   ]
  },
  {
   "cell_type": "code",
   "execution_count": 13,
   "id": "1020220b-5e4a-47bd-8f97-d25cd264d256",
   "metadata": {},
   "outputs": [
    {
     "name": "stdout",
     "output_type": "stream",
     "text": [
      "Counter({'인문(문화/예술/역사)': 5614, '음식': 4912, '레포츠': 2611, '자연': 1719, '숙박': 1434, '쇼핑': 696})\n",
      "Counter({'음식점': 4912, '육상 레포츠': 2288, '자연관광지': 1578, '역사관광지': 1571, '숙박시설': 1434, '문화시설': 1220, '휴양관광지': 889, '체험관광지': 805, '쇼핑': 696, '축제': 569, '건축/조형물': 328, '수상 레포츠': 277, '관광자원': 141, '공연/행사': 139, '산업관광지': 93, '복합 레포츠': 24, '항공 레포츠': 11, '레포츠소개': 11})\n",
      "Counter({'한식': 3438, '야영장,오토캠핑장': 1558, '바/까페': 785, '유적지/사적지': 622, '일반축제': 549, '사찰': 495, '이색거리': 467, '펜션': 445, '한옥스테이': 404, '모텔': 340, '농.산.어촌 체험': 332, '박물관': 310, '공원': 271, '상설시장': 270, '트래킹': 246, '전시관': 243, '산': 239, '서양식': 226, '유원지': 211, '중식': 209, '해수욕장': 207, '자연생태관광지': 207, '미술관/화랑': 204, '골프': 179, '전문상가': 173, '테마공원': 172, '5일장': 165, '계곡': 160, '일식': 151, '기념탑/기념비/전망대': 148, '항구/포구': 134, '관광단지': 126, '공연장': 120, '민물낚시': 119, '자연휴양림': 118, '문화원': 113, '섬': 111, '유명건물': 105, '강': 104, '수목원': 95, '수련시설': 95, '도서관': 92, '고택': 92, '희귀동.식물': 88, '성': 85, '게스트하우스': 83, '기타': 79, '민속마을': 76, '기타행사': 71, '종교성지': 65, '기념관': 64, '패밀리레스토랑': 61, '스키(보드) 렌탈샵': 60, '홈스테이': 57, '바다낚시': 57, '온천/욕장/스파': 53, '기암괴석': 53, '생가': 43, '공예,공방': 41, '다리/대교': 41, '폭포': 40, '민박': 39, '특산물판매점': 37, '채식전문점': 36, '고궁': 36, '자동차경주': 35, '안보관광': 34, '콘도미니엄': 34, '유람선/잠수함관광': 30, '호수': 30, '박람회': 29, '썰매장': 27, '수영': 27, '윈드서핑/제트스키': 27, '문화전수시설': 26, '해안절경': 25, '복합 레포츠': 24, '등대': 24, '문': 23, '컨벤션': 22, '국립공원': 21, '승마': 21, '동굴': 20, '유스호스텔': 20, '문화관광축제': 20, '동상': 18, '래프팅': 18, '대형서점': 17, '약수터': 17, '도립공원': 15, '헬스투어': 15, '자전거하이킹': 13, '요트': 12, '서비스드레지던스': 12, '스케이트': 12, '군립공원': 11, '이색찜질방': 11, '수상레포츠': 11, '컨벤션센터': 11, '카약/카누': 10, '식음료': 10, '헹글라이딩/패러글라이딩': 9, '학교': 9, '사격장': 9, '분수': 8, '터널': 8, '외국문화원': 7, '카트': 7, '스노쿨링/스킨스쿠버다이빙': 7, '면세점': 6, '전통공연': 6, '클럽': 6, '스키/스노보드': 6, '이색체험': 6, '연극': 5, '백화점': 4, '카지노': 4, '번지점프': 4, '발전소': 4, '영화관': 4, 'ATV': 4, '빙벽등반': 4, '대중콘서트': 2, 'MTB': 2, '스카이다이빙': 2, '인라인(실내 인라인 포함)': 2, '뮤지컬': 2, '클래식음악회': 2})\n"
     ]
    }
   ],
   "source": [
    "print()\n",
    "print(Counter(train['cat2']))\n",
    "print(Counter(train['cat3']))"
   ]
  },
  {
   "cell_type": "code",
   "execution_count": null,
   "id": "267ef581-a733-45d8-aec1-8149f2b6dd53",
   "metadata": {},
   "outputs": [],
   "source": []
  }
 ],
 "metadata": {
  "kernelspec": {
   "display_name": "Python 3 (ipykernel)",
   "language": "python",
   "name": "python3"
  },
  "language_info": {
   "codemirror_mode": {
    "name": "ipython",
    "version": 3
   },
   "file_extension": ".py",
   "mimetype": "text/x-python",
   "name": "python",
   "nbconvert_exporter": "python",
   "pygments_lexer": "ipython3",
   "version": "3.9.7"
  }
 },
 "nbformat": 4,
 "nbformat_minor": 5
}
