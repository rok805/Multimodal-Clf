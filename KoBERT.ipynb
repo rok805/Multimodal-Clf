{
 "cells": [
  {
   "cell_type": "code",
   "execution_count": null,
   "id": "2f6c5f86-1183-422e-a1cf-73c3ac26b8da",
   "metadata": {},
   "outputs": [],
   "source": [
    "# SK KoBERT에서 요구하는 패키지\n",
    "# boto3 <=1.15.18\n",
    "# gluonnlp >= 0.6.0, <=0.10.0\n",
    "# mxnet >= 1.4.0, <=1.7.0.post2\n",
    "# onnxruntime == 1.8.0, <=1.8.0\n",
    "# sentencepiece >= 0.1.6, <=0.1.96\n",
    "# torch >= 1.7.0, <=1.10.1\n",
    "# transformers >= 4.8.1, <=4.8.1"
   ]
  },
  {
   "cell_type": "code",
   "execution_count": 1,
   "id": "6da0b48f-fb9a-474c-a634-6c213c8c3f04",
   "metadata": {},
   "outputs": [],
   "source": [
    "import torch\n",
    "from torch import nn\n",
    "import torch.nn.functional as F\n",
    "import torch.optim as optim\n",
    "from torch.utils.data import Dataset, DataLoader\n",
    "import gluonnlp as nlp\n",
    "import numpy as np\n",
    "from tqdm import tqdm, tqdm_notebook\n",
    "import pandas as pd\n",
    "\n",
    "#transformers\n",
    "from transformers import AdamW\n",
    "from transformers.optimization import get_cosine_schedule_with_warmup\n",
    "from transformers import BertModel\n",
    "\n",
    "#GPU 사용 시\n",
    "device = torch.device(\"cuda:0\")"
   ]
  },
  {
   "cell_type": "code",
   "execution_count": 52,
   "id": "cc1ed810-e6fa-49c2-830b-d7465fb78821",
   "metadata": {},
   "outputs": [],
   "source": [
    "data = pd.read_csv('./train.csv')[['overview', 'cat3']]"
   ]
  },
  {
   "cell_type": "code",
   "execution_count": 3,
   "id": "0c4ca9b9-a06c-4ce5-aae0-64fcc4e06c62",
   "metadata": {},
   "outputs": [
    {
     "data": {
      "text/plain": [
       "(16986, 2)"
      ]
     },
     "execution_count": 3,
     "metadata": {},
     "output_type": "execute_result"
    }
   ],
   "source": [
    "data.shape"
   ]
  },
  {
   "cell_type": "code",
   "execution_count": 4,
   "id": "1a6aa185-7360-4b7c-9d1b-1a35e2119986",
   "metadata": {},
   "outputs": [
    {
     "data": {
      "text/html": [
       "<div>\n",
       "<style scoped>\n",
       "    .dataframe tbody tr th:only-of-type {\n",
       "        vertical-align: middle;\n",
       "    }\n",
       "\n",
       "    .dataframe tbody tr th {\n",
       "        vertical-align: top;\n",
       "    }\n",
       "\n",
       "    .dataframe thead th {\n",
       "        text-align: right;\n",
       "    }\n",
       "</style>\n",
       "<table border=\"1\" class=\"dataframe\">\n",
       "  <thead>\n",
       "    <tr style=\"text-align: right;\">\n",
       "      <th></th>\n",
       "      <th>overview</th>\n",
       "      <th>cat3</th>\n",
       "    </tr>\n",
       "  </thead>\n",
       "  <tbody>\n",
       "    <tr>\n",
       "      <th>0</th>\n",
       "      <td>소안항은 조용한 섬으로 인근해안이 청정해역으로 일찍이 김 양식을 해서 높은 소득을 ...</td>\n",
       "      <td>항구/포구</td>\n",
       "    </tr>\n",
       "    <tr>\n",
       "      <th>1</th>\n",
       "      <td>경기도 이천시 모가면에 있는 골프장으로 대중제 18홀이다. 회원제로 개장을 했다가 ...</td>\n",
       "      <td>골프</td>\n",
       "    </tr>\n",
       "    <tr>\n",
       "      <th>2</th>\n",
       "      <td>금오산성숯불갈비는 한우고기만을 전문적으로 취급하고 사용하는 부식 자재 또한 유기농법...</td>\n",
       "      <td>한식</td>\n",
       "    </tr>\n",
       "    <tr>\n",
       "      <th>3</th>\n",
       "      <td>철판 위에서 요리하는 안동찜닭을 맛볼 수 있는 곳이다. 경상북도 안동시에 있는 한식...</td>\n",
       "      <td>한식</td>\n",
       "    </tr>\n",
       "    <tr>\n",
       "      <th>4</th>\n",
       "      <td>※ 영업시간 10:30 ~ 20:30\\n\\n3대에 걸쳐 아귀만을 전문으로 취급하는 ...</td>\n",
       "      <td>한식</td>\n",
       "    </tr>\n",
       "  </tbody>\n",
       "</table>\n",
       "</div>"
      ],
      "text/plain": [
       "                                            overview   cat3\n",
       "0  소안항은 조용한 섬으로 인근해안이 청정해역으로 일찍이 김 양식을 해서 높은 소득을 ...  항구/포구\n",
       "1  경기도 이천시 모가면에 있는 골프장으로 대중제 18홀이다. 회원제로 개장을 했다가 ...     골프\n",
       "2  금오산성숯불갈비는 한우고기만을 전문적으로 취급하고 사용하는 부식 자재 또한 유기농법...     한식\n",
       "3  철판 위에서 요리하는 안동찜닭을 맛볼 수 있는 곳이다. 경상북도 안동시에 있는 한식...     한식\n",
       "4  ※ 영업시간 10:30 ~ 20:30\\n\\n3대에 걸쳐 아귀만을 전문으로 취급하는 ...     한식"
      ]
     },
     "execution_count": 4,
     "metadata": {},
     "output_type": "execute_result"
    }
   ],
   "source": [
    "data.head()"
   ]
  },
  {
   "cell_type": "code",
   "execution_count": 5,
   "id": "af1e1266-9335-47b7-b168-9b8e0bc659cf",
   "metadata": {},
   "outputs": [],
   "source": [
    "data_list = []\n",
    "for ques, label in zip(data['overview'], data['cat3']):\n",
    "    tmp = []   \n",
    "    tmp.append(ques)\n",
    "    tmp.append(str(label))\n",
    "\n",
    "    data_list.append(tmp)"
   ]
  },
  {
   "cell_type": "code",
   "execution_count": 6,
   "id": "a77469db-6ff0-4cec-9221-a4d5801c46b6",
   "metadata": {},
   "outputs": [
    {
     "data": {
      "text/plain": [
       "['소안항은 조용한 섬으로 인근해안이 청정해역으로 일찍이 김 양식을 해서 높은 소득을 올리고 있으며 바다낚시터로도 유명하다. 항 주변에 설치된 양식장들은 섬사람들의 부지런한 생활상을 고스 란히 담고 있으며 일몰 때 섬의 정경은 바다의 아름다움을 그대로 품고 있는 듯하다. 또한, 섬에는 각시여 전설, 도둑바위 등의 설화가 전해 내려오고 있으며, 매년 정월 풍어제 풍속이 이어지고 있다.<br>',\n",
       " '항구/포구']"
      ]
     },
     "execution_count": 6,
     "metadata": {},
     "output_type": "execute_result"
    }
   ],
   "source": [
    "data_list[0]"
   ]
  },
  {
   "cell_type": "code",
   "execution_count": 7,
   "id": "d5e6ea1c-9483-43eb-9657-344d8b75e4b6",
   "metadata": {},
   "outputs": [],
   "source": [
    "class BERTDataset(Dataset):\n",
    "    def __init__(self, dataset, sent_idx, label_idx, bert_tokenizer,vocab, max_len,\n",
    "                 pad, pair):\n",
    "   \n",
    "        transform = nlp.data.BERTSentenceTransform(\n",
    "            bert_tokenizer, max_seq_length=max_len,vocab=vocab, pad=pad, pair=pair)\n",
    "        \n",
    "        self.sentences = [transform([i[sent_idx]]) for i in dataset]\n",
    "        self.labels = [np.int32(i[label_idx]) for i in dataset]\n",
    "\n",
    "    def __getitem__(self, i):\n",
    "        return (self.sentences[i] + (self.labels[i], ))\n",
    "         \n",
    "\n",
    "    def __len__(self):\n",
    "        return (len(self.labels))"
   ]
  },
  {
   "cell_type": "code",
   "execution_count": 8,
   "id": "560a7663-b67c-4de2-acde-60c869fd2083",
   "metadata": {
    "tags": []
   },
   "outputs": [
    {
     "name": "stdout",
     "output_type": "stream",
     "text": [
      "Collecting git+https://****@github.com/SKTBrain/KoBERT.git@master\n",
      "  Cloning https://****@github.com/SKTBrain/KoBERT.git (to revision master) to /tmp/pip-req-build-tk7ao8nr\n",
      "  Running command git clone -q 'https://****@github.com/SKTBrain/KoBERT.git' /tmp/pip-req-build-tk7ao8nr\n",
      "  Resolved https://****@github.com/SKTBrain/KoBERT.git to commit 47a69af87928fc24e20f571fe10c3cc9dd9af9a3\n",
      "Requirement already satisfied: boto3<=1.15.18 in /DATA/rok/miniconda3/lib/python3.9/site-packages (from kobert==0.2.3) (1.15.18)\n",
      "Requirement already satisfied: gluonnlp<=0.10.0,>=0.6.0 in /DATA/rok/miniconda3/lib/python3.9/site-packages (from kobert==0.2.3) (0.10.0)\n",
      "Requirement already satisfied: mxnet<=1.7.0.post2,>=1.4.0 in /DATA/rok/miniconda3/lib/python3.9/site-packages (from kobert==0.2.3) (1.7.0.post2)\n",
      "Requirement already satisfied: onnxruntime<=1.8.0,==1.8.0 in /DATA/rok/miniconda3/lib/python3.9/site-packages (from kobert==0.2.3) (1.8.0)\n",
      "Requirement already satisfied: sentencepiece<=0.1.96,>=0.1.6 in /DATA/rok/miniconda3/lib/python3.9/site-packages (from kobert==0.2.3) (0.1.96)\n",
      "Requirement already satisfied: torch<=1.10.1,>=1.7.0 in /DATA/rok/miniconda3/lib/python3.9/site-packages (from kobert==0.2.3) (1.10.1)\n",
      "Requirement already satisfied: transformers<=4.8.1,>=4.8.1 in /DATA/rok/miniconda3/lib/python3.9/site-packages (from kobert==0.2.3) (4.8.1)\n",
      "Requirement already satisfied: flatbuffers in /DATA/rok/miniconda3/lib/python3.9/site-packages (from onnxruntime<=1.8.0,==1.8.0->kobert==0.2.3) (2.0)\n",
      "Requirement already satisfied: protobuf in /DATA/rok/miniconda3/lib/python3.9/site-packages (from onnxruntime<=1.8.0,==1.8.0->kobert==0.2.3) (3.19.4)\n",
      "Requirement already satisfied: numpy>=1.16.6 in /DATA/rok/miniconda3/lib/python3.9/site-packages (from onnxruntime<=1.8.0,==1.8.0->kobert==0.2.3) (1.22.3)\n",
      "Requirement already satisfied: jmespath<1.0.0,>=0.7.1 in /DATA/rok/miniconda3/lib/python3.9/site-packages (from boto3<=1.15.18->kobert==0.2.3) (0.10.0)\n",
      "Requirement already satisfied: botocore<1.19.0,>=1.18.18 in /DATA/rok/miniconda3/lib/python3.9/site-packages (from boto3<=1.15.18->kobert==0.2.3) (1.18.18)\n",
      "Requirement already satisfied: s3transfer<0.4.0,>=0.3.0 in /DATA/rok/miniconda3/lib/python3.9/site-packages (from boto3<=1.15.18->kobert==0.2.3) (0.3.7)\n",
      "Requirement already satisfied: python-dateutil<3.0.0,>=2.1 in /DATA/rok/miniconda3/lib/python3.9/site-packages (from botocore<1.19.0,>=1.18.18->boto3<=1.15.18->kobert==0.2.3) (2.8.2)\n",
      "Requirement already satisfied: urllib3<1.26,>=1.20 in /DATA/rok/miniconda3/lib/python3.9/site-packages (from botocore<1.19.0,>=1.18.18->boto3<=1.15.18->kobert==0.2.3) (1.25.11)\n",
      "Requirement already satisfied: packaging in /DATA/rok/miniconda3/lib/python3.9/site-packages (from gluonnlp<=0.10.0,>=0.6.0->kobert==0.2.3) (21.3)\n",
      "Requirement already satisfied: cython in /DATA/rok/miniconda3/lib/python3.9/site-packages (from gluonnlp<=0.10.0,>=0.6.0->kobert==0.2.3) (0.29.28)\n",
      "Requirement already satisfied: requests<3,>=2.20.0 in /DATA/rok/miniconda3/lib/python3.9/site-packages (from mxnet<=1.7.0.post2,>=1.4.0->kobert==0.2.3) (2.27.1)\n",
      "Requirement already satisfied: graphviz<0.9.0,>=0.8.1 in /DATA/rok/miniconda3/lib/python3.9/site-packages (from mxnet<=1.7.0.post2,>=1.4.0->kobert==0.2.3) (0.8.4)\n",
      "Requirement already satisfied: six>=1.5 in /DATA/rok/miniconda3/lib/python3.9/site-packages (from python-dateutil<3.0.0,>=2.1->botocore<1.19.0,>=1.18.18->boto3<=1.15.18->kobert==0.2.3) (1.16.0)\n",
      "Requirement already satisfied: charset-normalizer~=2.0.0 in /DATA/rok/miniconda3/lib/python3.9/site-packages (from requests<3,>=2.20.0->mxnet<=1.7.0.post2,>=1.4.0->kobert==0.2.3) (2.0.4)\n",
      "Requirement already satisfied: idna<4,>=2.5 in /DATA/rok/miniconda3/lib/python3.9/site-packages (from requests<3,>=2.20.0->mxnet<=1.7.0.post2,>=1.4.0->kobert==0.2.3) (3.3)\n",
      "Requirement already satisfied: certifi>=2017.4.17 in /DATA/rok/miniconda3/lib/python3.9/site-packages (from requests<3,>=2.20.0->mxnet<=1.7.0.post2,>=1.4.0->kobert==0.2.3) (2021.10.8)\n",
      "Requirement already satisfied: typing-extensions in /DATA/rok/miniconda3/lib/python3.9/site-packages (from torch<=1.10.1,>=1.7.0->kobert==0.2.3) (4.2.0)\n",
      "Requirement already satisfied: filelock in /DATA/rok/miniconda3/lib/python3.9/site-packages (from transformers<=4.8.1,>=4.8.1->kobert==0.2.3) (3.6.0)\n",
      "Requirement already satisfied: pyyaml in /DATA/rok/miniconda3/lib/python3.9/site-packages (from transformers<=4.8.1,>=4.8.1->kobert==0.2.3) (6.0)\n",
      "Requirement already satisfied: tokenizers<0.11,>=0.10.1 in /DATA/rok/miniconda3/lib/python3.9/site-packages (from transformers<=4.8.1,>=4.8.1->kobert==0.2.3) (0.10.3)\n",
      "Requirement already satisfied: sacremoses in /DATA/rok/miniconda3/lib/python3.9/site-packages (from transformers<=4.8.1,>=4.8.1->kobert==0.2.3) (0.0.53)\n",
      "Requirement already satisfied: tqdm>=4.27 in /DATA/rok/miniconda3/lib/python3.9/site-packages (from transformers<=4.8.1,>=4.8.1->kobert==0.2.3) (4.62.3)\n",
      "Requirement already satisfied: huggingface-hub==0.0.12 in /DATA/rok/miniconda3/lib/python3.9/site-packages (from transformers<=4.8.1,>=4.8.1->kobert==0.2.3) (0.0.12)\n",
      "Requirement already satisfied: regex!=2019.12.17 in /DATA/rok/miniconda3/lib/python3.9/site-packages (from transformers<=4.8.1,>=4.8.1->kobert==0.2.3) (2022.4.24)\n",
      "Requirement already satisfied: pyparsing!=3.0.5,>=2.0.2 in /DATA/rok/miniconda3/lib/python3.9/site-packages (from packaging->gluonnlp<=0.10.0,>=0.6.0->kobert==0.2.3) (3.0.8)\n",
      "Requirement already satisfied: click in /DATA/rok/miniconda3/lib/python3.9/site-packages (from sacremoses->transformers<=4.8.1,>=4.8.1->kobert==0.2.3) (8.1.3)\n",
      "Requirement already satisfied: joblib in /DATA/rok/miniconda3/lib/python3.9/site-packages (from sacremoses->transformers<=4.8.1,>=4.8.1->kobert==0.2.3) (1.1.0)\n"
     ]
    }
   ],
   "source": [
    "!pip install git+https://git@github.com/SKTBrain/KoBERT.git@master"
   ]
  },
  {
   "cell_type": "code",
   "execution_count": 9,
   "id": "57a6aa85-4865-4703-891f-913781724518",
   "metadata": {},
   "outputs": [],
   "source": [
    "# kobert 모듈 로드\n",
    "from kobert.utils import get_tokenizer\n",
    "from kobert.pytorch_kobert import get_pytorch_kobert_model\n"
   ]
  },
  {
   "cell_type": "code",
   "execution_count": null,
   "id": "8ca0bab6-5a65-49d3-90e8-e82e04e92f6f",
   "metadata": {},
   "outputs": [],
   "source": []
  },
  {
   "cell_type": "code",
   "execution_count": 20,
   "id": "ff7ec46b-a3f4-45cb-b146-d6d680db5263",
   "metadata": {},
   "outputs": [],
   "source": [
    "# torch, nlp를 위한 모듈 로드\n",
    "import torch\n",
    "from torch import nn\n",
    "import torch.nn.functional as F\n",
    "import torch.optim as optim\n",
    "from torch.utils.data import Dataset, DataLoader\n",
    "import gluonnlp as nlp\n",
    "import numpy as np\n",
    "\n",
    "from datetime import datetime\n",
    "from tqdm import tqdm, tqdm_notebook\n",
    "from sklearn.model_selection import train_test_split\n",
    "import pandas as pd\n",
    "import sys\n",
    "import re\n",
    "import gc\n",
    "import os\n",
    "\n",
    "# kobert 모듈 로드\n",
    "from kobert.utils import get_tokenizer\n",
    "from kobert.pytorch_kobert import get_pytorch_kobert_model\n",
    "\n",
    "# transformer 모듈 로드\n",
    "from transformers import AdamW\n",
    "from transformers.optimization import get_cosine_schedule_with_warmup\n",
    "from transformers import BertModel\n",
    "\n",
    "# argument\n",
    "import argparse\n",
    "\n",
    "\n",
    "# 학습 데이터셋 구축 클래스\n",
    "class BERTDataset(Dataset):\n",
    "    \n",
    "    def __init__(self, dataset, sent_idx, label_idx, bert_tokenizer, max_len,\n",
    "                 pad, pair):\n",
    "        transform = nlp.data.BERTSentenceTransform(\n",
    "            bert_tokenizer, max_seq_length=max_len, pad=pad, pair=pair)\n",
    "\n",
    "        self.sentences = [transform([i[sent_idx]]) for i in dataset]\n",
    "        self.labels = [np.int32(i[label_idx]) for i in dataset]\n",
    "\n",
    "    def __getitem__(self, i):\n",
    "        return (self.sentences[i] + (self.labels[i], ))\n",
    "\n",
    "    def __len__(self):\n",
    "        return (len(self.labels))\n",
    "\n",
    "    \n",
    "# BERT 분류기 클래스\n",
    "class BERTClassifier(nn.Module):\n",
    "    \n",
    "    def __init__(self,\n",
    "                 bert,\n",
    "                 hidden_size = 768,\n",
    "                 num_classes = 128, # softmax 사용 <- binary일 경우는 2\n",
    "                 dr_rate=None,\n",
    "                 params=None):\n",
    "        super(BERTClassifier, self).__init__()\n",
    "        self.bert = bert\n",
    "        self.dr_rate = dr_rate\n",
    "                 \n",
    "        self.classifier = nn.Linear(hidden_size , num_classes)\n",
    "        if dr_rate:\n",
    "            self.dropout = nn.Dropout(p=dr_rate)\n",
    "    \n",
    "    def gen_attention_mask(self, token_ids, valid_length):\n",
    "        attention_mask = torch.zeros_like(token_ids)\n",
    "        for i, v in enumerate(valid_length):\n",
    "            attention_mask[i][:v] = 1\n",
    "#         print(attention_mask)\n",
    "        return attention_mask.float()\n",
    "\n",
    "    def forward(self, token_ids, valid_length, segment_ids):\n",
    "        attention_mask = self.gen_attention_mask(token_ids, valid_length)\n",
    "        \n",
    "        _, pooler = self.bert(input_ids = token_ids, token_type_ids = segment_ids.long(), attention_mask = attention_mask.float().to(token_ids.device))\n",
    "        if self.dr_rate:\n",
    "            out = self.dropout(pooler)\n",
    "        return self.classifier(out), pooler    \n",
    "    \n",
    "\n",
    "# 학습 평가 지표인 accuracy 계산 -> 얼마나 타겟값을 많이 맞추었는가\n",
    "def calc_accuracy(X,Y):\n",
    "    max_vals, max_indices = torch.max(X, 1)\n",
    "    train_acc = (max_indices == Y).sum().data.cpu().numpy()/max_indices.size()[0]\n",
    "    return train_acc\n"
   ]
  },
  {
   "cell_type": "code",
   "execution_count": 21,
   "id": "7c5375eb-8742-4050-8579-32d2c3b2210a",
   "metadata": {},
   "outputs": [
    {
     "name": "stdout",
     "output_type": "stream",
     "text": [
      "using cached model. /home/rok/Multimodal_Clf/Multimodal-Clf/.cache/kobert_v1.zip\n",
      "using cached model. /home/rok/Multimodal_Clf/Multimodal-Clf/.cache/kobert_news_wiki_ko_cased-1087f8699e.spiece\n",
      "using cached model. /home/rok/Multimodal_Clf/Multimodal-Clf/.cache/kobert_news_wiki_ko_cased-1087f8699e.spiece\n"
     ]
    }
   ],
   "source": [
    "bertmodel, vocab = get_pytorch_kobert_model()\n",
    "tokenizer = get_tokenizer()"
   ]
  },
  {
   "cell_type": "code",
   "execution_count": 22,
   "id": "af276183-8aa9-491f-9764-77a8d7af6f32",
   "metadata": {},
   "outputs": [],
   "source": [
    "device = torch.device(\"cuda:0\") #GPU 사용 시\n",
    "#device = torch.device(\"cpu\") #CPU 사용 시\n",
    "torch.cuda.is_available()\n",
    "\n",
    "# 토크나이저 생성\n",
    "tok = nlp.data.BERTSPTokenizer(tokenizer, vocab, lower=False)\n",
    "\n",
    "model = BERTClassifier(bertmodel, dr_rate=0.2).to(device)\n",
    "model = nn.DataParallel(model, device_ids=[0,1])\n",
    "model.cuda()\n",
    "\n",
    "# Prepare optimizer and schedule (linear warmup and decay)\n",
    "no_decay = ['bias', 'LayerNorm.weight']\n",
    "optimizer_grouped_parameters = [\n",
    "    {'params': [p for n, p in model.named_parameters() if not any(nd in n for nd in no_decay)], 'weight_decay': 0.01},\n",
    "    {'params': [p for n, p in model.named_parameters() if any(nd in n for nd in no_decay)], 'weight_decay': 0.0}\n",
    "]"
   ]
  },
  {
   "cell_type": "code",
   "execution_count": 23,
   "id": "cc17a9ac-6fdd-45b4-b8fa-e8013db4dbea",
   "metadata": {},
   "outputs": [
    {
     "data": {
      "text/html": [
       "<div>\n",
       "<style scoped>\n",
       "    .dataframe tbody tr th:only-of-type {\n",
       "        vertical-align: middle;\n",
       "    }\n",
       "\n",
       "    .dataframe tbody tr th {\n",
       "        vertical-align: top;\n",
       "    }\n",
       "\n",
       "    .dataframe thead th {\n",
       "        text-align: right;\n",
       "    }\n",
       "</style>\n",
       "<table border=\"1\" class=\"dataframe\">\n",
       "  <thead>\n",
       "    <tr style=\"text-align: right;\">\n",
       "      <th></th>\n",
       "      <th>overview</th>\n",
       "      <th>cat3</th>\n",
       "    </tr>\n",
       "  </thead>\n",
       "  <tbody>\n",
       "    <tr>\n",
       "      <th>0</th>\n",
       "      <td>소안항은 조용한 섬으로 인근해안이 청정해역으로 일찍이 김 양식을 해서 높은 소득을 ...</td>\n",
       "      <td>120</td>\n",
       "    </tr>\n",
       "    <tr>\n",
       "      <th>1</th>\n",
       "      <td>경기도 이천시 모가면에 있는 골프장으로 대중제 18홀이다. 회원제로 개장을 했다가 ...</td>\n",
       "      <td>8</td>\n",
       "    </tr>\n",
       "    <tr>\n",
       "      <th>2</th>\n",
       "      <td>금오산성숯불갈비는 한우고기만을 전문적으로 취급하고 사용하는 부식 자재 또한 유기농법...</td>\n",
       "      <td>118</td>\n",
       "    </tr>\n",
       "    <tr>\n",
       "      <th>3</th>\n",
       "      <td>철판 위에서 요리하는 안동찜닭을 맛볼 수 있는 곳이다. 경상북도 안동시에 있는 한식...</td>\n",
       "      <td>118</td>\n",
       "    </tr>\n",
       "    <tr>\n",
       "      <th>4</th>\n",
       "      <td>※ 영업시간 10:30 ~ 20:30\\n\\n3대에 걸쳐 아귀만을 전문으로 취급하는 ...</td>\n",
       "      <td>118</td>\n",
       "    </tr>\n",
       "  </tbody>\n",
       "</table>\n",
       "</div>"
      ],
      "text/plain": [
       "                                            overview  cat3\n",
       "0  소안항은 조용한 섬으로 인근해안이 청정해역으로 일찍이 김 양식을 해서 높은 소득을 ...   120\n",
       "1  경기도 이천시 모가면에 있는 골프장으로 대중제 18홀이다. 회원제로 개장을 했다가 ...     8\n",
       "2  금오산성숯불갈비는 한우고기만을 전문적으로 취급하고 사용하는 부식 자재 또한 유기농법...   118\n",
       "3  철판 위에서 요리하는 안동찜닭을 맛볼 수 있는 곳이다. 경상북도 안동시에 있는 한식...   118\n",
       "4  ※ 영업시간 10:30 ~ 20:30\\n\\n3대에 걸쳐 아귀만을 전문으로 취급하는 ...   118"
      ]
     },
     "execution_count": 23,
     "metadata": {},
     "output_type": "execute_result"
    }
   ],
   "source": [
    "data.head()"
   ]
  },
  {
   "cell_type": "code",
   "execution_count": 24,
   "id": "739175af-2910-48a2-b62f-36dbbcb1928d",
   "metadata": {},
   "outputs": [
    {
     "data": {
      "text/plain": [
       "['소안항은 조용한 섬으로 인근해안이 청정해역으로 일찍이 김 양식을 해서 높은 소득을 올리고 있으며 바다낚시터로도 유명하다. 항 주변에 설치된 양식장들은 섬사람들의 부지런한 생활상을 고스 란히 담고 있으며 일몰 때 섬의 정경은 바다의 아름다움을 그대로 품고 있는 듯하다. 또한, 섬에는 각시여 전설, 도둑바위 등의 설화가 전해 내려오고 있으며, 매년 정월 풍어제 풍속이 이어지고 있다.<br>',\n",
       " '항구/포구']"
      ]
     },
     "execution_count": 24,
     "metadata": {},
     "output_type": "execute_result"
    }
   ],
   "source": [
    "data_list[0]"
   ]
  },
  {
   "cell_type": "code",
   "execution_count": 53,
   "id": "8f68f592-e9e1-4dfd-abf0-beb1c2a8b895",
   "metadata": {},
   "outputs": [
    {
     "data": {
      "text/plain": [
       "array([120,   8, 118,  73,  58,  90,  85,  91,  94,  97,  12,  31,  67,\n",
       "        41, 101, 119, 105,  59, 100,  72,  96,  86, 121,   0,  37,  11,\n",
       "        54,  44,  25,   9,  20,  48, 115,  53,  16,  15,  92,  95, 127,\n",
       "        82,  61,  84,  52,   3,  93,  43,  35,   5, 116,  57,  99,  27,\n",
       "        19,   7,  13,   4,  71,  79,  34,  29,  69,  10, 112,  77,  60,\n",
       "       122, 114,  17,  18, 126,  38, 107,  39, 111,  81,  42,  63,  46,\n",
       "       125, 102,  78,  30,  21, 103,  49,  26,  24,  80, 113,  83,   6,\n",
       "        56,  40,  98,  32,  70,  47, 110,  33, 104, 109,  45,  22,   2,\n",
       "        14,  66,  23,  55,  65,  76, 124,  64,  74,  89,  87, 117, 123,\n",
       "        28,  51,   1,  50,  62,  75, 106,  68,  36,  88, 108])"
      ]
     },
     "execution_count": 53,
     "metadata": {},
     "output_type": "execute_result"
    }
   ],
   "source": [
    "from sklearn import preprocessing\n",
    "  \n",
    "# label_encoder object knows how to understand word labels.\n",
    "label_encoder = preprocessing.LabelEncoder()\n",
    "  \n",
    "# Encode labels in column 'species'.\n",
    "data['cat3']= label_encoder.fit_transform(data['cat3'])\n",
    "  \n",
    "data['cat3'].unique()"
   ]
  },
  {
   "cell_type": "code",
   "execution_count": 71,
   "id": "299b957b-9fb7-414f-a6dd-4b51f09ecbed",
   "metadata": {
    "tags": []
   },
   "outputs": [],
   "source": [
    "num_to_chr = {}\n",
    "for i in data['cat3'].unique():\n",
    "    num_to_chr[i] = label_encoder.inverse_transform(np.array([i]))[0]"
   ]
  },
  {
   "cell_type": "code",
   "execution_count": 72,
   "id": "d4e83993-9daf-426c-8bfd-d431d53d447f",
   "metadata": {},
   "outputs": [
    {
     "data": {
      "text/plain": [
       "{120: '항구/포구',\n",
       " 8: '골프',\n",
       " 118: '한식',\n",
       " 73: '야영장,오토캠핑장',\n",
       " 58: '섬',\n",
       " 90: '일반축제',\n",
       " 85: '유적지/사적지',\n",
       " 91: '일식',\n",
       " 94: '자연휴양림',\n",
       " 97: '전시관',\n",
       " 12: '관광단지',\n",
       " 31: '모텔',\n",
       " 67: '스키(보드) 렌탈샵',\n",
       " 41: '바/까페',\n",
       " 101: '채식전문점',\n",
       " 119: '한옥스테이',\n",
       " 105: '컨벤션',\n",
       " 59: '성',\n",
       " 100: '중식',\n",
       " 72: '안보관광',\n",
       " 96: '전문상가',\n",
       " 86: '이색거리',\n",
       " 121: '해수욕장',\n",
       " 0: '5일장',\n",
       " 37: '미술관/화랑',\n",
       " 11: '공원',\n",
       " 54: '상설시장',\n",
       " 44: '박물관',\n",
       " 25: '도서관',\n",
       " 9: '공연장',\n",
       " 20: '농.산.어촌 체험',\n",
       " 48: '복합 레포츠',\n",
       " 115: '펜션',\n",
       " 53: '산',\n",
       " 16: '기념탑/기념비/전망대',\n",
       " 15: '기념관',\n",
       " 92: '자동차경주',\n",
       " 95: '자전거하이킹',\n",
       " 127: '희귀동.식물',\n",
       " 82: '유명건물',\n",
       " 61: '수목원',\n",
       " 84: '유원지',\n",
       " 52: '사찰',\n",
       " 3: '강',\n",
       " 93: '자연생태관광지',\n",
       " 43: '박람회',\n",
       " 35: '문화전수시설',\n",
       " 5: '계곡',\n",
       " 116: '폭포',\n",
       " 57: '서양식',\n",
       " 99: '종교성지',\n",
       " 27: '동상',\n",
       " 19: '기타행사',\n",
       " 7: '고택',\n",
       " 13: '국립공원',\n",
       " 4: '게스트하우스',\n",
       " 71: '썰매장',\n",
       " 79: '요트',\n",
       " 34: '문화원',\n",
       " 29: '래프팅',\n",
       " 69: '승마',\n",
       " 10: '공예,공방',\n",
       " 112: '트래킹',\n",
       " 77: '온천/욕장/스파',\n",
       " 60: '수련시설',\n",
       " 122: '해안절경',\n",
       " 114: '패밀리레스토랑',\n",
       " 17: '기암괴석',\n",
       " 18: '기타',\n",
       " 126: '홈스테이',\n",
       " 38: '민물낚시',\n",
       " 107: '콘도미니엄',\n",
       " 39: '민박',\n",
       " 111: '테마공원',\n",
       " 81: '유람선/잠수함관광',\n",
       " 42: '바다낚시',\n",
       " 63: '수영',\n",
       " 46: '백화점',\n",
       " 125: '호수',\n",
       " 102: '카약/카누',\n",
       " 78: '외국문화원',\n",
       " 30: '면세점',\n",
       " 21: '다리/대교',\n",
       " 103: '카지노',\n",
       " 49: '분수',\n",
       " 26: '동굴',\n",
       " 24: '도립공원',\n",
       " 80: '윈드서핑/제트스키',\n",
       " 113: '특산물판매점',\n",
       " 83: '유스호스텔',\n",
       " 6: '고궁',\n",
       " 56: '서비스드레지던스',\n",
       " 40: '민속마을',\n",
       " 98: '전통공연',\n",
       " 32: '문',\n",
       " 70: '식음료',\n",
       " 47: '번지점프',\n",
       " 110: '터널',\n",
       " 33: '문화관광축제',\n",
       " 104: '카트',\n",
       " 109: '클럽',\n",
       " 45: '발전소',\n",
       " 22: '대중콘서트',\n",
       " 2: 'MTB',\n",
       " 14: '군립공원',\n",
       " 66: '스케이트',\n",
       " 23: '대형서점',\n",
       " 55: '생가',\n",
       " 65: '스카이다이빙',\n",
       " 76: '영화관',\n",
       " 124: '헹글라이딩/패러글라이딩',\n",
       " 64: '스노쿨링/스킨스쿠버다이빙',\n",
       " 74: '약수터',\n",
       " 89: '인라인(실내 인라인 포함)',\n",
       " 87: '이색찜질방',\n",
       " 117: '학교',\n",
       " 123: '헬스투어',\n",
       " 28: '등대',\n",
       " 51: '사격장',\n",
       " 1: 'ATV',\n",
       " 50: '빙벽등반',\n",
       " 62: '수상레포츠',\n",
       " 75: '연극',\n",
       " 106: '컨벤션센터',\n",
       " 68: '스키/스노보드',\n",
       " 36: '뮤지컬',\n",
       " 88: '이색체험',\n",
       " 108: '클래식음악회'}"
      ]
     },
     "execution_count": 72,
     "metadata": {},
     "output_type": "execute_result"
    }
   ],
   "source": [
    "num_to_chr"
   ]
  },
  {
   "cell_type": "code",
   "execution_count": 55,
   "id": "33b91496-59d6-406c-b243-25f533385f38",
   "metadata": {},
   "outputs": [
    {
     "data": {
      "text/plain": [
       "array(['항구/포구'], dtype=object)"
      ]
     },
     "execution_count": 55,
     "metadata": {},
     "output_type": "execute_result"
    }
   ],
   "source": [
    "label_encoder.inverse_transform(np.array([120]))"
   ]
  },
  {
   "cell_type": "code",
   "execution_count": 26,
   "id": "46249866-fb16-4bbb-955a-e0ee994e79ae",
   "metadata": {},
   "outputs": [
    {
     "data": {
      "text/plain": [
       "128"
      ]
     },
     "execution_count": 26,
     "metadata": {},
     "output_type": "execute_result"
    }
   ],
   "source": [
    "len(set(data['cat3'].tolist()))"
   ]
  },
  {
   "cell_type": "code",
   "execution_count": 28,
   "id": "2174e70e-00c4-4827-a5be-d014552b9ae2",
   "metadata": {},
   "outputs": [],
   "source": [
    "data = data.rename(columns={'overview':'content', 'cat3':'label'})"
   ]
  },
  {
   "cell_type": "code",
   "execution_count": 29,
   "id": "f5855f82-ed8e-4e63-ac03-cbcf37cad926",
   "metadata": {},
   "outputs": [
    {
     "data": {
      "text/html": [
       "<div>\n",
       "<style scoped>\n",
       "    .dataframe tbody tr th:only-of-type {\n",
       "        vertical-align: middle;\n",
       "    }\n",
       "\n",
       "    .dataframe tbody tr th {\n",
       "        vertical-align: top;\n",
       "    }\n",
       "\n",
       "    .dataframe thead th {\n",
       "        text-align: right;\n",
       "    }\n",
       "</style>\n",
       "<table border=\"1\" class=\"dataframe\">\n",
       "  <thead>\n",
       "    <tr style=\"text-align: right;\">\n",
       "      <th></th>\n",
       "      <th>content</th>\n",
       "      <th>label</th>\n",
       "    </tr>\n",
       "  </thead>\n",
       "  <tbody>\n",
       "    <tr>\n",
       "      <th>0</th>\n",
       "      <td>소안항은 조용한 섬으로 인근해안이 청정해역으로 일찍이 김 양식을 해서 높은 소득을 ...</td>\n",
       "      <td>120</td>\n",
       "    </tr>\n",
       "    <tr>\n",
       "      <th>1</th>\n",
       "      <td>경기도 이천시 모가면에 있는 골프장으로 대중제 18홀이다. 회원제로 개장을 했다가 ...</td>\n",
       "      <td>8</td>\n",
       "    </tr>\n",
       "    <tr>\n",
       "      <th>2</th>\n",
       "      <td>금오산성숯불갈비는 한우고기만을 전문적으로 취급하고 사용하는 부식 자재 또한 유기농법...</td>\n",
       "      <td>118</td>\n",
       "    </tr>\n",
       "    <tr>\n",
       "      <th>3</th>\n",
       "      <td>철판 위에서 요리하는 안동찜닭을 맛볼 수 있는 곳이다. 경상북도 안동시에 있는 한식...</td>\n",
       "      <td>118</td>\n",
       "    </tr>\n",
       "    <tr>\n",
       "      <th>4</th>\n",
       "      <td>※ 영업시간 10:30 ~ 20:30\\n\\n3대에 걸쳐 아귀만을 전문으로 취급하는 ...</td>\n",
       "      <td>118</td>\n",
       "    </tr>\n",
       "    <tr>\n",
       "      <th>...</th>\n",
       "      <td>...</td>\n",
       "      <td>...</td>\n",
       "    </tr>\n",
       "    <tr>\n",
       "      <th>16981</th>\n",
       "      <td>해발 12000m에 자리한 식담겸 카페점문점이다.&lt;br&gt;곤드레밥과 감자전을 판매하고...</td>\n",
       "      <td>118</td>\n",
       "    </tr>\n",
       "    <tr>\n",
       "      <th>16982</th>\n",
       "      <td>설악힐호텔은 동해고속도로 속초톨게이트에서 멀지 않은 관광로 변에 있다. 속초의 대표...</td>\n",
       "      <td>31</td>\n",
       "    </tr>\n",
       "    <tr>\n",
       "      <th>16983</th>\n",
       "      <td>충남 서산시 중심가에 위치한 줌모텔은 프라이버스가 보장되는 조용한 공간으로 가치가 ...</td>\n",
       "      <td>31</td>\n",
       "    </tr>\n",
       "    <tr>\n",
       "      <th>16984</th>\n",
       "      <td>토토큰바위캠핑장은 경기도 가평지역 내에서도 청정지역으로 손꼽히는 지역으로 주변에 화...</td>\n",
       "      <td>73</td>\n",
       "    </tr>\n",
       "    <tr>\n",
       "      <th>16985</th>\n",
       "      <td>포천의 진산으로 불리우는 왕방산(王訪山)에는 천년의 역사를 간직하고 있는 왕산사(王...</td>\n",
       "      <td>52</td>\n",
       "    </tr>\n",
       "  </tbody>\n",
       "</table>\n",
       "<p>16986 rows × 2 columns</p>\n",
       "</div>"
      ],
      "text/plain": [
       "                                                 content  label\n",
       "0      소안항은 조용한 섬으로 인근해안이 청정해역으로 일찍이 김 양식을 해서 높은 소득을 ...    120\n",
       "1      경기도 이천시 모가면에 있는 골프장으로 대중제 18홀이다. 회원제로 개장을 했다가 ...      8\n",
       "2      금오산성숯불갈비는 한우고기만을 전문적으로 취급하고 사용하는 부식 자재 또한 유기농법...    118\n",
       "3      철판 위에서 요리하는 안동찜닭을 맛볼 수 있는 곳이다. 경상북도 안동시에 있는 한식...    118\n",
       "4      ※ 영업시간 10:30 ~ 20:30\\n\\n3대에 걸쳐 아귀만을 전문으로 취급하는 ...    118\n",
       "...                                                  ...    ...\n",
       "16981  해발 12000m에 자리한 식담겸 카페점문점이다.<br>곤드레밥과 감자전을 판매하고...    118\n",
       "16982  설악힐호텔은 동해고속도로 속초톨게이트에서 멀지 않은 관광로 변에 있다. 속초의 대표...     31\n",
       "16983  충남 서산시 중심가에 위치한 줌모텔은 프라이버스가 보장되는 조용한 공간으로 가치가 ...     31\n",
       "16984  토토큰바위캠핑장은 경기도 가평지역 내에서도 청정지역으로 손꼽히는 지역으로 주변에 화...     73\n",
       "16985  포천의 진산으로 불리우는 왕방산(王訪山)에는 천년의 역사를 간직하고 있는 왕산사(王...     52\n",
       "\n",
       "[16986 rows x 2 columns]"
      ]
     },
     "execution_count": 29,
     "metadata": {},
     "output_type": "execute_result"
    }
   ],
   "source": [
    "data"
   ]
  },
  {
   "cell_type": "code",
   "execution_count": 30,
   "id": "4003fb87-f6ea-4c1b-afef-9d4ecb92008a",
   "metadata": {},
   "outputs": [
    {
     "name": "stderr",
     "output_type": "stream",
     "text": [
      "16986it [00:00, 19375.78it/s]\n"
     ]
    }
   ],
   "source": [
    "data_list=[]\n",
    "for idx, row in tqdm(data.iterrows()):\n",
    "    data_list.append([row[0], row[1]])\n"
   ]
  },
  {
   "cell_type": "code",
   "execution_count": 31,
   "id": "53b040e0-196c-40e7-8364-d84f890352ac",
   "metadata": {},
   "outputs": [],
   "source": [
    "max_len = 64 #args['max_length']\n",
    "batch_size = 64 #args['batch_size']\n",
    "num_epochs = 10 # args['num_epochs']"
   ]
  },
  {
   "cell_type": "code",
   "execution_count": 32,
   "id": "8a593fee-73e9-4337-88b0-f9296ac97d6f",
   "metadata": {},
   "outputs": [],
   "source": [
    "max_len = 64\n",
    "batch_size = 64\n",
    "warmup_ratio = 0.1\n",
    "num_epochs = 5\n",
    "max_grad_norm = 1\n",
    "log_interval = 200\n",
    "learning_rate = 5e-5"
   ]
  },
  {
   "cell_type": "code",
   "execution_count": 33,
   "id": "0a075cfe-be17-4fc5-9997-87bb637511f1",
   "metadata": {},
   "outputs": [],
   "source": [
    "# 학습\n",
    "# Train / Test set 분리\n",
    "dataset_train, dataset_test = train_test_split(data_list, test_size=0.2, random_state=0)\n",
    "\n",
    "# 학습을 위한 데이터셋 구축\n",
    "data_train = BERTDataset(dataset_train, 0, 1, tok, max_len, True, False)\n",
    "data_test = BERTDataset(dataset_test, 0, 1, tok, max_len, True, False)\n",
    "\n",
    "# pytorch용 DataLoader 사용\n",
    "train_dataloader = torch.utils.data.DataLoader(data_train, batch_size=batch_size, num_workers=5)\n",
    "test_dataloader = torch.utils.data.DataLoader(data_test, batch_size=batch_size, num_workers=5)\n",
    "\n",
    "# 옵티마이저 선언\n",
    "optimizer = AdamW(optimizer_grouped_parameters, lr=learning_rate)\n",
    "loss_fn = nn.CrossEntropyLoss() # softmax용 Loss Function 정하기 <- binary classification도 해당 loss function 사용 가능\n",
    "\n",
    "# warm_up\n",
    "t_total = len(train_dataloader) * num_epochs\n",
    "warmup_step = int(t_total * warmup_ratio)\n",
    "\n",
    "# 스케쥴러\n",
    "scheduler = get_cosine_schedule_with_warmup(optimizer, num_warmup_steps=warmup_step, num_training_steps=t_total)\n"
   ]
  },
  {
   "cell_type": "code",
   "execution_count": 34,
   "id": "de668877-cc65-408c-bb8e-16ee6f0d64ec",
   "metadata": {},
   "outputs": [
    {
     "name": "stderr",
     "output_type": "stream",
     "text": [
      "1it [00:03,  3.45s/it]"
     ]
    },
    {
     "name": "stdout",
     "output_type": "stream",
     "text": [
      "epoch 1 batch id 1 loss 4.867308139801025 train acc 0.0\n"
     ]
    },
    {
     "name": "stderr",
     "output_type": "stream",
     "text": [
      "201it [00:56,  3.75it/s]"
     ]
    },
    {
     "name": "stdout",
     "output_type": "stream",
     "text": [
      "epoch 1 batch id 201 loss 2.0619518756866455 train acc 0.3523009950248756\n"
     ]
    },
    {
     "name": "stderr",
     "output_type": "stream",
     "text": [
      "213it [00:59,  3.59it/s]"
     ]
    },
    {
     "name": "stdout",
     "output_type": "stream",
     "text": [
      "epoch 1 train acc 0.36646126760563386\n"
     ]
    },
    {
     "name": "stderr",
     "output_type": "stream",
     "text": [
      "\n",
      "54it [00:05,  9.34it/s]\n"
     ]
    },
    {
     "name": "stdout",
     "output_type": "stream",
     "text": [
      "epoch 1 test acc 0.5884452160493827\n"
     ]
    },
    {
     "name": "stderr",
     "output_type": "stream",
     "text": [
      "1it [00:00,  3.46it/s]"
     ]
    },
    {
     "name": "stdout",
     "output_type": "stream",
     "text": [
      "epoch 2 batch id 1 loss 2.0783331394195557 train acc 0.546875\n"
     ]
    },
    {
     "name": "stderr",
     "output_type": "stream",
     "text": [
      "201it [00:53,  3.75it/s]"
     ]
    },
    {
     "name": "stdout",
     "output_type": "stream",
     "text": [
      "epoch 2 batch id 201 loss 1.3882246017456055 train acc 0.6579601990049752\n"
     ]
    },
    {
     "name": "stderr",
     "output_type": "stream",
     "text": [
      "213it [00:56,  3.74it/s]"
     ]
    },
    {
     "name": "stdout",
     "output_type": "stream",
     "text": [
      "epoch 2 train acc 0.6632482394366197\n"
     ]
    },
    {
     "name": "stderr",
     "output_type": "stream",
     "text": [
      "\n",
      "54it [00:05,  9.66it/s]\n"
     ]
    },
    {
     "name": "stdout",
     "output_type": "stream",
     "text": [
      "epoch 2 test acc 0.6985918209876544\n"
     ]
    },
    {
     "name": "stderr",
     "output_type": "stream",
     "text": [
      "1it [00:00,  3.25it/s]"
     ]
    },
    {
     "name": "stdout",
     "output_type": "stream",
     "text": [
      "epoch 3 batch id 1 loss 1.4700297117233276 train acc 0.75\n"
     ]
    },
    {
     "name": "stderr",
     "output_type": "stream",
     "text": [
      "201it [00:53,  3.21it/s]"
     ]
    },
    {
     "name": "stdout",
     "output_type": "stream",
     "text": [
      "epoch 3 batch id 201 loss 1.0364974737167358 train acc 0.761660447761194\n"
     ]
    },
    {
     "name": "stderr",
     "output_type": "stream",
     "text": [
      "213it [00:56,  3.74it/s]"
     ]
    },
    {
     "name": "stdout",
     "output_type": "stream",
     "text": [
      "epoch 3 train acc 0.7643485915492958\n"
     ]
    },
    {
     "name": "stderr",
     "output_type": "stream",
     "text": [
      "\n",
      "54it [00:05,  9.74it/s]\n"
     ]
    },
    {
     "name": "stdout",
     "output_type": "stream",
     "text": [
      "epoch 3 test acc 0.7418981481481481\n"
     ]
    },
    {
     "name": "stderr",
     "output_type": "stream",
     "text": [
      "1it [00:00,  3.35it/s]"
     ]
    },
    {
     "name": "stdout",
     "output_type": "stream",
     "text": [
      "epoch 4 batch id 1 loss 1.1172020435333252 train acc 0.78125\n"
     ]
    },
    {
     "name": "stderr",
     "output_type": "stream",
     "text": [
      "201it [00:53,  3.20it/s]"
     ]
    },
    {
     "name": "stdout",
     "output_type": "stream",
     "text": [
      "epoch 4 batch id 201 loss 0.8687368631362915 train acc 0.8107898009950248\n"
     ]
    },
    {
     "name": "stderr",
     "output_type": "stream",
     "text": [
      "213it [00:57,  3.72it/s]"
     ]
    },
    {
     "name": "stdout",
     "output_type": "stream",
     "text": [
      "epoch 4 train acc 0.812544014084507\n"
     ]
    },
    {
     "name": "stderr",
     "output_type": "stream",
     "text": [
      "\n",
      "54it [00:05,  9.66it/s]\n"
     ]
    },
    {
     "name": "stdout",
     "output_type": "stream",
     "text": [
      "epoch 4 test acc 0.755883487654321\n"
     ]
    },
    {
     "name": "stderr",
     "output_type": "stream",
     "text": [
      "1it [00:00,  3.56it/s]"
     ]
    },
    {
     "name": "stdout",
     "output_type": "stream",
     "text": [
      "epoch 5 batch id 1 loss 0.9747593998908997 train acc 0.8125\n"
     ]
    },
    {
     "name": "stderr",
     "output_type": "stream",
     "text": [
      "201it [00:54,  3.20it/s]"
     ]
    },
    {
     "name": "stdout",
     "output_type": "stream",
     "text": [
      "epoch 5 batch id 201 loss 0.7915986180305481 train acc 0.8335665422885572\n"
     ]
    },
    {
     "name": "stderr",
     "output_type": "stream",
     "text": [
      "213it [00:57,  3.72it/s]"
     ]
    },
    {
     "name": "stdout",
     "output_type": "stream",
     "text": [
      "epoch 5 train acc 0.8344776995305164\n"
     ]
    },
    {
     "name": "stderr",
     "output_type": "stream",
     "text": [
      "\n",
      "54it [00:05,  9.79it/s]\n"
     ]
    },
    {
     "name": "stdout",
     "output_type": "stream",
     "text": [
      "epoch 5 test acc 0.7573302469135803\n"
     ]
    }
   ],
   "source": [
    "\n",
    "for e in range(num_epochs):\n",
    "    train_acc = 0.0\n",
    "    test_acc = 0.0\n",
    "    model.train()\n",
    "    for batch_id, (token_ids, valid_length, segment_ids, label) in tqdm(enumerate(train_dataloader)):\n",
    "        optimizer.zero_grad()\n",
    "        token_ids = token_ids.long().to(device)\n",
    "        segment_ids = segment_ids.long().to(device)\n",
    "        valid_length= valid_length\n",
    "        label = label.long().to(device)\n",
    "        out, hidden = model(token_ids, valid_length, segment_ids)\n",
    "        loss = loss_fn(out, label)\n",
    "        loss.backward()\n",
    "        torch.nn.utils.clip_grad_norm_(model.parameters(), max_grad_norm)\n",
    "        optimizer.step()\n",
    "        scheduler.step()  # Update learning rate schedule\n",
    "        train_acc += calc_accuracy(out, label)\n",
    "        if batch_id % log_interval == 0:\n",
    "            print(\"epoch {} batch id {} loss {} train acc {}\".format(e+1, batch_id+1, loss.data.cpu().numpy(), train_acc / (batch_id+1)))\n",
    "\n",
    "    print(\"epoch {} train acc {}\".format(e+1, train_acc / (batch_id+1)))\n",
    "\n",
    "\n",
    "    model.eval()\n",
    "    for batch_id, (token_ids, valid_length, segment_ids, label) in tqdm(enumerate(test_dataloader)):\n",
    "        token_ids = token_ids.long().to(device)\n",
    "        segment_ids = segment_ids.long().to(device)\n",
    "        valid_length= valid_length\n",
    "        label = label.long().to(device)\n",
    "        out, hidden = model(token_ids, valid_length, segment_ids)\n",
    "        test_acc += calc_accuracy(out, label)\n",
    "    print(\"epoch {} test acc {}\".format(e+1, test_acc / (batch_id+1)))\n",
    "\n",
    "\n",
    "    # GPU 사용시 학습 전 캐시제거\n",
    "    gc.collect()\n",
    "    torch.cuda.empty_cache()\n",
    "\n",
    "\n"
   ]
  },
  {
   "cell_type": "code",
   "execution_count": 35,
   "id": "f027e0f7-c959-4c2e-8b5b-70c69cde1f1f",
   "metadata": {
    "tags": []
   },
   "outputs": [],
   "source": [
    "# 모델 로컬 저장\n",
    "torch.save(model, f'./hoac_result_m.pt')\n",
    "torch.save(model.state_dict(), f'./hoac_result_state_dict.pt')  # 모델 객체의 state_dict 저장\n",
    "torch.save({\n",
    "    'model': model.state_dict(),\n",
    "    'optimizer': optimizer.state_dict()\n",
    "}, f'./hoac_result.tar')  # 여러 가지 값 저장, 학습 중 진행 상황 저장을 위해 epoch, loss 값 등 일반 scalar값 저장 가능\n"
   ]
  },
  {
   "cell_type": "code",
   "execution_count": 36,
   "id": "d2d13e53-5763-4336-a406-1041754df6cc",
   "metadata": {},
   "outputs": [
    {
     "data": {
      "text/plain": [
       "<All keys matched successfully>"
      ]
     },
     "execution_count": 36,
     "metadata": {},
     "output_type": "execute_result"
    }
   ],
   "source": [
    "# model load\n",
    "model_loaded = torch.load(f'./hoac_result_m.pt')  # 전체 모델을 통째로 불러옴, 클래스 선언 필수\n",
    "model_loaded.load_state_dict(torch.load(f'./hoac_result_state_dict.pt'))  # state_dict를 불러 온 후, 모델에 저장\n",
    "checkpoint = torch.load(f'./hoac_result.tar')   # dict 불러오기\n",
    "model_loaded.load_state_dict(checkpoint['model'])\n"
   ]
  },
  {
   "cell_type": "code",
   "execution_count": 43,
   "id": "38078f4c-de53-43cf-9802-fab95f3805c4",
   "metadata": {},
   "outputs": [],
   "source": [
    "# 예측값의 확률 값을 출력하기 위한 함수\n",
    "def softmax(logits):\n",
    "    argmax = torch.argmax(logits).item()\n",
    "    sum_exp = torch.exp(logits).sum().item()\n",
    "    argmax_exp = torch.exp(logits)[argmax].item()\n",
    "    return argmax, argmax_exp/sum_exp, logits"
   ]
  },
  {
   "cell_type": "code",
   "execution_count": 37,
   "id": "207bbfa7-d463-4323-8348-afbbed70d6d7",
   "metadata": {},
   "outputs": [],
   "source": [
    "def bert_predict(predict_sentence, thres = 0.5):\n",
    "\n",
    "    data = [predict_sentence, '0']\n",
    "    dataset_another = [data]\n",
    "\n",
    "    another_test = BERTDataset(dataset_another, 0, 1, tok, max_len, True, False)\n",
    "    test_dataloader = torch.utils.data.DataLoader(another_test, batch_size=batch_size, num_workers=5)\n",
    "\n",
    "    model_loaded.eval()\n",
    "\n",
    "    for batch_id, (token_ids, valid_length, segment_ids, label) in enumerate(test_dataloader):\n",
    "\n",
    "        token_ids = token_ids.long().to(device)\n",
    "        segment_ids = segment_ids.long().to(device)\n",
    "\n",
    "        valid_length= valid_length\n",
    "        label = label.long().to(device)\n",
    "\n",
    "        out, sentence_vector = model_loaded(token_ids, valid_length, segment_ids)\n",
    "#         print(out, sentence_vector)\n",
    "\n",
    "\n",
    "        for i in out:\n",
    "\n",
    "            argmax, prob, logits = softmax(i)\n",
    "\n",
    "    return argmax, prob, logits # sentence_vector,"
   ]
  },
  {
   "cell_type": "code",
   "execution_count": null,
   "id": "86733df6-9f88-455e-acf0-ec1ad661fee4",
   "metadata": {},
   "outputs": [],
   "source": []
  },
  {
   "cell_type": "code",
   "execution_count": 38,
   "id": "568ffd1a-644a-4505-bacc-39b211977f66",
   "metadata": {},
   "outputs": [],
   "source": [
    "testset = pd.read_csv('./test.csv')"
   ]
  },
  {
   "cell_type": "code",
   "execution_count": 40,
   "id": "2f699f40-a752-4f92-92ff-7d58277941c3",
   "metadata": {},
   "outputs": [],
   "source": [
    "test_sentences = testset['overview'].tolist()"
   ]
  },
  {
   "cell_type": "code",
   "execution_count": 75,
   "id": "e78ad208-d882-42c2-b950-d9d790b41a35",
   "metadata": {},
   "outputs": [
    {
     "name": "stderr",
     "output_type": "stream",
     "text": [
      "100%|██████████████████████████████████████████████████████████████████████████████████████████████| 7280/7280 [1:06:05<00:00,  1.84it/s]\n"
     ]
    }
   ],
   "source": [
    "\n",
    "pred = []\n",
    "for i in tqdm(test_sentences):\n",
    "    pred.append(num_to_chr[bert_predict(i)[0]])\n",
    "    "
   ]
  },
  {
   "cell_type": "code",
   "execution_count": 77,
   "id": "235196b8-509b-4b78-a4da-fecf7f722830",
   "metadata": {},
   "outputs": [],
   "source": [
    "testset['cat3'] = pred\n",
    "testset[['id', 'cat3']].to_csv('kobert_base.csv', index=False)"
   ]
  },
  {
   "cell_type": "code",
   "execution_count": null,
   "id": "c5326f8f-e682-4edb-98df-ec1dd78bd6cd",
   "metadata": {},
   "outputs": [],
   "source": []
  }
 ],
 "metadata": {
  "kernelspec": {
   "display_name": "Python 3 (ipykernel)",
   "language": "python",
   "name": "python3"
  },
  "language_info": {
   "codemirror_mode": {
    "name": "ipython",
    "version": 3
   },
   "file_extension": ".py",
   "mimetype": "text/x-python",
   "name": "python",
   "nbconvert_exporter": "python",
   "pygments_lexer": "ipython3",
   "version": "3.9.7"
  }
 },
 "nbformat": 4,
 "nbformat_minor": 5
}
